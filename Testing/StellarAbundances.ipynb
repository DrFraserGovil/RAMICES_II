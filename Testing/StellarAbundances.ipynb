{
 "cells": [
  {
   "cell_type": "code",
   "execution_count": null,
   "metadata": {},
   "outputs": [],
   "source": [
    "import numpy as np\n",
    "import matplotlib.pyplot as plt\n",
    "from matplotlib.pyplot import figure\n",
    "import matplotlib as mpl\n",
    "import pandas as pd"
   ]
  },
  {
   "cell_type": "code",
   "execution_count": null,
   "id": "95788915",
   "metadata": {},
   "outputs": [],
   "source": [
    "abbrev = \"\" \n",
    "\n",
    "ringNumber = 100\n",
    "totalSize = 20.0"
   ]
  },
  {
   "cell_type": "code",
   "execution_count": null,
   "id": "f99f865d",
   "metadata": {},
   "outputs": [],
   "source": [
    "ringwidth = totalSize/ringNumber\n",
    "\n",
    "StellarCatalogue = pd.read_table('../Output/' + abbrev + '/StellarCatalogue.dat',index_col=False , delimiter = ',\\s', engine = 'python')\n"
   ]
  },
  {
   "cell_type": "code",
   "execution_count": null,
   "id": "316e46dd",
   "metadata": {},
   "outputs": [],
   "source": [
    "fig, ax = plt.subplots(figsize = (12,8), nrows =2, ncols=2)\n",
    "\n",
    "\n",
    "x = StellarCatalogue['FeH']\n",
    "y1 = StellarCatalogue['MgH'] - StellarCatalogue['FeH']\n",
    "y2 = StellarCatalogue['EuH'] - StellarCatalogue['FeH']\n",
    "\n",
    "\n",
    "x3= StellarCatalogue['BMag']-StellarCatalogue['VMag']\n",
    "y3= StellarCatalogue['VMag']\n",
    "\n",
    "norm=mpl.colors.LogNorm(vmin = 1e-2,vmax = 1e3)\n",
    "\n",
    "\n",
    "im1 = ax[0,0].hexbin(x, y1, cmap = 'inferno', gridsize = 120, norm = norm)\n",
    "im2 = ax[0,1].hexbin(x, y2, cmap = 'inferno', gridsize = 120, norm = norm)\n",
    "im3 = ax[1,0].hexbin(x3,y3, cmap = 'inferno', gridsize = 100, norm = norm)\n",
    "\n",
    "ax[0,0].set(facecolor = \"black\")\n",
    "ax[0,1].set(facecolor = \"black\")\n",
    "ax[1,0].set(facecolor = \"black\")\n",
    "\n",
    "\n",
    "\n",
    "ax[1,1].hist(y1, bins = 100)\n",
    "\n",
    "clb = plt.colorbar(im1, ax = ax[0,0])\n",
    "clb.set_label('Counts')\n",
    "clb = plt.colorbar(im2, ax = ax[0,1])\n",
    "clb.set_label('Counts')\n",
    "clb = plt.colorbar(im3, ax = ax[1,0])\n",
    "clb.set_label('Counts')\n",
    "\n",
    "\n",
    "ax[1,1].set_yscale('log')\n",
    "\n",
    "ax[1,0].set_ylim(9,-2)\n",
    "\n",
    "ax[0,0].set_xlabel('[Fe/H')\n",
    "ax[0,1].set_xlabel('[Fe/H')\n",
    "ax[1,0].set_xlabel('M_B-M_V')\n",
    "ax[1,1].set_xlabel('[Mg/Fe]')\n",
    "ax[0,0].set_ylabel('[Mg/Fe]')\n",
    "ax[0,1].set_ylabel('[Eu/Fe]')\n",
    "ax[1,0].set_ylabel('M_V')\n",
    "ax[1,1].set_ylabel('Counts')\n",
    "\n"
   ]
  },
  {
   "cell_type": "code",
   "execution_count": null,
   "id": "1aac25a9",
   "metadata": {},
   "outputs": [],
   "source": [
    "fig, ax = plt.subplots(figsize = (12,8), nrows =2, ncols=2)\n",
    "\n",
    "\n",
    "x1 = StellarCatalogue['TrueAge']\n",
    "y1 = StellarCatalogue['BirthRadius']\n",
    "y2 = StellarCatalogue['Radius'] \n",
    "y3 = StellarCatalogue['Radius'] - StellarCatalogue['BirthRadius'] \n",
    "\n",
    "norm=mpl.colors.LogNorm()\n",
    "\n",
    "\n",
    "im1 = ax[0,0].hexbin(x1,y1, cmap = 'inferno',gridsize = 40, norm = norm)\n",
    "im2 = ax[0,1].hexbin(x1,y2, cmap = 'inferno',gridsize = 40, norm = norm)\n",
    "im3 = ax[1,0].hexbin(x1,y3, cmap = 'inferno',gridsize = (20,5), norm = norm)\n",
    "im4 = ax[1,1].hexbin(y1,y3, cmap = 'inferno',gridsize = (20,5), norm = norm)\n",
    "\n",
    "ax[0,0].set(facecolor = \"black\")\n",
    "ax[0,1].set(facecolor = \"black\")\n",
    "ax[1,0].set(facecolor = \"black\")\n",
    "ax[1,1].set(facecolor = \"black\")\n",
    "\n",
    "\n",
    "clb = plt.colorbar(im1, ax = ax[0,0])\n",
    "clb.set_label('Counts')\n",
    "clb = plt.colorbar(im2, ax = ax[0,1])\n",
    "clb.set_label('Counts')\n",
    "clb = plt.colorbar(im3, ax = ax[1,0])\n",
    "clb.set_label('Counts')\n",
    "clb = plt.colorbar(im4, ax = ax[1,1])\n",
    "clb.set_label('Counts')\n",
    "\n",
    "\n",
    "#ax[1,0].set_ylim(9,-2)\n",
    "\n",
    "ax[0,0].set_xlabel('Age (Gyr)')\n",
    "ax[0,1].set_xlabel('Age (Gyr)')\n",
    "ax[1,0].set_xlabel('Age (Gyr)')\n",
    "ax[1,1].set_xlabel('Birth Radius (kpc)')\n",
    "ax[0,0].set_ylabel('Birth Radius (kpc)')\n",
    "ax[0,1].set_ylabel('Current Radius (kpc)')\n",
    "ax[1,0].set_ylabel('Migration Outwards (kpc)')\n",
    "ax[1,1].set_ylabel('Migration Outwards (kpc)')\n",
    "\n"
   ]
  },
  {
   "cell_type": "code",
   "execution_count": null,
   "id": "f39c9466",
   "metadata": {},
   "outputs": [],
   "source": [
    "\n"
   ]
  },
  {
   "cell_type": "code",
   "execution_count": null,
   "id": "1205e95f",
   "metadata": {},
   "outputs": [],
   "source": []
  }
 ],
 "metadata": {
  "kernelspec": {
   "display_name": "Python 3.8.10 64-bit",
   "language": "python",
   "name": "python3"
  },
  "language_info": {
   "codemirror_mode": {
    "name": "ipython",
    "version": 3
   },
   "file_extension": ".py",
   "mimetype": "text/x-python",
   "name": "python",
   "nbconvert_exporter": "python",
   "pygments_lexer": "ipython3",
   "version": "3.8.10"
  },
  "vscode": {
   "interpreter": {
    "hash": "916dbcbb3f70747c44a77c7bcd40155683ae19c65e1c03b4aa3499c5328201f1"
   }
  }
 },
 "nbformat": 4,
 "nbformat_minor": 5
}
